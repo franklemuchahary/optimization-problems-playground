{
 "cells": [
  {
   "cell_type": "markdown",
   "id": "71148ab2-27c0-4237-b2b8-97b7a70f9356",
   "metadata": {},
   "source": [
    "## Solving the Knapsack Problem using `Scipy` and `Pulp`"
   ]
  },
  {
   "cell_type": "code",
   "execution_count": 1,
   "id": "d6b24623-dc00-4979-b7a6-a3fad7702085",
   "metadata": {},
   "outputs": [],
   "source": [
    "import pandas as pd\n",
    "import numpy as np\n",
    "from pulp import pulp, LpMaximize, LpVariable, get_solver, LpStatus, lpSum, LpBinary\n",
    "from scipy.optimize import linprog, milp, LinearConstraint, Bounds"
   ]
  },
  {
   "cell_type": "markdown",
   "id": "e15ea3a3-f9d3-4494-a2ec-532fefeda684",
   "metadata": {},
   "source": [
    "### Problem Data"
   ]
  },
  {
   "cell_type": "code",
   "execution_count": 2,
   "id": "fd270c66-8139-4c6a-af5f-34437fa3b477",
   "metadata": {},
   "outputs": [
    {
     "name": "stdout",
     "output_type": "stream",
     "text": [
      "   Item Id           Item Name  Weight (kg)  Relative Value\n",
      "0        1             Compass          0.5               6\n",
      "1        2               Knife          1.5               5\n",
      "2        3    Fire Starter Kit          0.4               4\n",
      "3        4                Tent          1.0               4\n",
      "4        5    Propane Cylinder          1.6               3\n",
      "5        6                Food          1.1               4\n",
      "6        7  Portable Telescope          0.8               1\n"
     ]
    }
   ],
   "source": [
    "knapsack_capacity = 5\n",
    "\n",
    "items = {\n",
    "    'Item Id': [1, 2, 3, 4, 5, 6, 7],\n",
    "    'Item Name': [\n",
    "        'Compass',\n",
    "        'Knife',\n",
    "        'Fire Starter Kit',\n",
    "        'Tent',\n",
    "        'Propane Cylinder',\n",
    "        'Food',\n",
    "        'Portable Telescope'\n",
    "    ],\n",
    "    'Weight (kg)': [0.5, 1.5, 0.4, 1.0, 1.6, 1.1, 0.8],\n",
    "    'Relative Value': [6, 5, 4, 4, 3, 4, 1]\n",
    "}\n",
    "\n",
    "df = pd.DataFrame(items)\n",
    "print(df)"
   ]
  },
  {
   "cell_type": "markdown",
   "id": "c597a787-2359-487d-ba77-bb57c7c6f0d6",
   "metadata": {},
   "source": [
    "### Problem Definition"
   ]
  },
  {
   "cell_type": "markdown",
   "id": "5bae01ee-8723-4dbc-98a7-72ed31548039",
   "metadata": {},
   "source": [
    "**Objective:**  \n",
    "$\n",
    "\\max \\sum \\limits_{i=1}^{n} x_i \\times V_i\n",
    "$\n",
    "\n",
    "**Subject to constraints:**  \n",
    "$\n",
    "\\sum \\limits_{i=1}^{n} x_i \\times w_i  <= C\n",
    "$\n",
    "\n",
    "**Where:**   \n",
    "$C$ is the total knapsack capacity  \n",
    "$x_i \\in \\{0,1\\}$ i.e. $x_i$ is a binary decision variable for each item available for selection (0 indicates do not select and 1 indicates selection)  \n",
    "$V_i$ is the relative value of each item available for selection  \n",
    "$w_i$ is the weight of each item that is available for selection\n"
   ]
  },
  {
   "cell_type": "markdown",
   "id": "5030cf34-7a67-4aa0-a923-e2fa503b5f6d",
   "metadata": {},
   "source": [
    "### Scipy Solution\n",
    "\n",
    "**Library Documentation:** https://docs.scipy.org/doc/scipy/reference/generated/scipy.optimize.milp.html"
   ]
  },
  {
   "cell_type": "markdown",
   "id": "3543064d-6b91-4134-ace6-d23f4d3f5add",
   "metadata": {},
   "source": [
    "Define Problem Variables"
   ]
  },
  {
   "cell_type": "code",
   "execution_count": 3,
   "id": "895feb55-c787-4225-82c9-390236e46069",
   "metadata": {},
   "outputs": [
    {
     "name": "stdout",
     "output_type": "stream",
     "text": [
      "Decision Variables: [-6 -5 -4 -4 -3 -4 -1]\n",
      "Decision Variables Lower Bounds: [0, 0, 0, 0, 0, 0, 0]\n",
      "Decision Variables Lower Bounds: [1, 1, 1, 1, 1, 1, 1]\n",
      "Integrality:  [1, 1, 1, 1, 1, 1, 1]\n"
     ]
    }
   ],
   "source": [
    "# Note: Scipy has only minimization available. Hence, we are multiplying the objective by -1 to turn it into a maximization problem\n",
    "decision_variables = -np.array([1] * 7) * np.array(items['Relative Value'])\n",
    "print(\"Decision Variables:\", decision_variables)\n",
    "\n",
    "lower_bounds = [0 for i in range(0, len(decision_variables))]\n",
    "upper_bounds = [1 for i in range(0, len(decision_variables))]\n",
    "print(\"Decision Variables Lower Bounds:\", lower_bounds)\n",
    "print(\"Decision Variables Lower Bounds:\", upper_bounds)\n",
    "\n",
    "# From the docs, 1 : Integer variable; decision variable must be an integer within bounds.\n",
    "integrality = [1] * len(decision_variables)\n",
    "print(\"Integrality: \", integrality)\n",
    "\n",
    "bounds = Bounds(lb = lower_bounds, ub = upper_bounds)\n",
    "\n",
    "constraints = LinearConstraint(items['Weight (kg)'], lb = 0, ub = knapsack_capacity)"
   ]
  },
  {
   "cell_type": "markdown",
   "id": "d64c7403-5a8a-4764-83a7-0de237245ba2",
   "metadata": {},
   "source": [
    "Solve Model"
   ]
  },
  {
   "cell_type": "code",
   "execution_count": 4,
   "id": "13e523bb-5c3b-44a0-a9e9-1c4a5dfc34b5",
   "metadata": {},
   "outputs": [
    {
     "name": "stdout",
     "output_type": "stream",
     "text": [
      "        message: Optimization terminated successfully. (HiGHS Status 7: Optimal)\n",
      "        success: True\n",
      "         status: 0\n",
      "            fun: -23.0\n",
      "              x: [ 1.000e+00  1.000e+00  1.000e+00  1.000e+00  0.000e+00\n",
      "                   1.000e+00  0.000e+00]\n",
      " mip_node_count: 1\n",
      " mip_dual_bound: -23.0\n",
      "        mip_gap: 0.0\n"
     ]
    }
   ],
   "source": [
    "sol = milp(\n",
    "    c = decision_variables,\n",
    "    bounds = bounds,\n",
    "    constraints = constraints,\n",
    "    integrality = integrality\n",
    ")\n",
    "\n",
    "print(sol)"
   ]
  },
  {
   "cell_type": "markdown",
   "id": "51e2d1c0-4c9f-4ae3-ac8c-908670822fd3",
   "metadata": {},
   "source": [
    "Model Results"
   ]
  },
  {
   "cell_type": "code",
   "execution_count": 5,
   "id": "a4483744-5c85-48ac-b035-0be864a87497",
   "metadata": {},
   "outputs": [
    {
     "name": "stdout",
     "output_type": "stream",
     "text": [
      "Decision Variables: [1. 1. 1. 1. 0. 1. 0.]\n",
      "Objective Value: -23.0\n",
      "Final Knapsack Weight: 4.5\n"
     ]
    }
   ],
   "source": [
    "print(\"Decision Variables:\", sol.x)\n",
    "\n",
    "print(\"Objective Value:\", sol.fun)\n",
    "\n",
    "print(\"Final Knapsack Weight:\", sum(sol.x * np.array(items['Weight (kg)'])))"
   ]
  },
  {
   "cell_type": "markdown",
   "id": "a401a567-7176-4a05-89d6-0cad80a2b939",
   "metadata": {},
   "source": [
    "Final Result"
   ]
  },
  {
   "cell_type": "code",
   "execution_count": 6,
   "id": "c04bc297-f1ef-4a4c-967b-28d4d04647d8",
   "metadata": {},
   "outputs": [
    {
     "data": {
      "text/html": [
       "<div>\n",
       "<style scoped>\n",
       "    .dataframe tbody tr th:only-of-type {\n",
       "        vertical-align: middle;\n",
       "    }\n",
       "\n",
       "    .dataframe tbody tr th {\n",
       "        vertical-align: top;\n",
       "    }\n",
       "\n",
       "    .dataframe thead th {\n",
       "        text-align: right;\n",
       "    }\n",
       "</style>\n",
       "<table border=\"1\" class=\"dataframe\">\n",
       "  <thead>\n",
       "    <tr style=\"text-align: right;\">\n",
       "      <th></th>\n",
       "      <th>Item Id</th>\n",
       "      <th>Item Name</th>\n",
       "      <th>Weight (kg)</th>\n",
       "      <th>Relative Value</th>\n",
       "      <th>scipy_items_to_select</th>\n",
       "    </tr>\n",
       "  </thead>\n",
       "  <tbody>\n",
       "    <tr>\n",
       "      <th>0</th>\n",
       "      <td>1</td>\n",
       "      <td>Compass</td>\n",
       "      <td>0.5</td>\n",
       "      <td>6</td>\n",
       "      <td>True</td>\n",
       "    </tr>\n",
       "    <tr>\n",
       "      <th>1</th>\n",
       "      <td>2</td>\n",
       "      <td>Knife</td>\n",
       "      <td>1.5</td>\n",
       "      <td>5</td>\n",
       "      <td>True</td>\n",
       "    </tr>\n",
       "    <tr>\n",
       "      <th>2</th>\n",
       "      <td>3</td>\n",
       "      <td>Fire Starter Kit</td>\n",
       "      <td>0.4</td>\n",
       "      <td>4</td>\n",
       "      <td>True</td>\n",
       "    </tr>\n",
       "    <tr>\n",
       "      <th>3</th>\n",
       "      <td>4</td>\n",
       "      <td>Tent</td>\n",
       "      <td>1.0</td>\n",
       "      <td>4</td>\n",
       "      <td>True</td>\n",
       "    </tr>\n",
       "    <tr>\n",
       "      <th>4</th>\n",
       "      <td>5</td>\n",
       "      <td>Propane Cylinder</td>\n",
       "      <td>1.6</td>\n",
       "      <td>3</td>\n",
       "      <td>False</td>\n",
       "    </tr>\n",
       "    <tr>\n",
       "      <th>5</th>\n",
       "      <td>6</td>\n",
       "      <td>Food</td>\n",
       "      <td>1.1</td>\n",
       "      <td>4</td>\n",
       "      <td>True</td>\n",
       "    </tr>\n",
       "    <tr>\n",
       "      <th>6</th>\n",
       "      <td>7</td>\n",
       "      <td>Portable Telescope</td>\n",
       "      <td>0.8</td>\n",
       "      <td>1</td>\n",
       "      <td>False</td>\n",
       "    </tr>\n",
       "  </tbody>\n",
       "</table>\n",
       "</div>"
      ],
      "text/plain": [
       "   Item Id           Item Name  Weight (kg)  Relative Value  \\\n",
       "0        1             Compass          0.5               6   \n",
       "1        2               Knife          1.5               5   \n",
       "2        3    Fire Starter Kit          0.4               4   \n",
       "3        4                Tent          1.0               4   \n",
       "4        5    Propane Cylinder          1.6               3   \n",
       "5        6                Food          1.1               4   \n",
       "6        7  Portable Telescope          0.8               1   \n",
       "\n",
       "   scipy_items_to_select  \n",
       "0                   True  \n",
       "1                   True  \n",
       "2                   True  \n",
       "3                   True  \n",
       "4                  False  \n",
       "5                   True  \n",
       "6                  False  "
      ]
     },
     "execution_count": 6,
     "metadata": {},
     "output_type": "execute_result"
    }
   ],
   "source": [
    "df['scipy_items_to_select'] = [True if i==1 else False for i in sol.x]\n",
    "df"
   ]
  },
  {
   "cell_type": "markdown",
   "id": "dbac95dc-63f7-42bf-b619-80a6940e5195",
   "metadata": {},
   "source": [
    "### PuLP Solution"
   ]
  },
  {
   "cell_type": "markdown",
   "id": "8fd54bbe-591e-4331-bbb4-9afabf2cbb1c",
   "metadata": {},
   "source": [
    "Define Problem Variables"
   ]
  },
  {
   "cell_type": "code",
   "execution_count": 7,
   "id": "d316615c-3877-40cb-94be-91f7014a762e",
   "metadata": {},
   "outputs": [],
   "source": [
    "# defining the problem\n",
    "prob = pulp.LpProblem('knapsack_pulp', LpMaximize)\n",
    "\n",
    "# defining the binary decision variables\n",
    "x1_decision_var = LpVariable.dicts(\n",
    "    name = 'x1',\n",
    "    indices = items['Item Name'],\n",
    "    lowBound = 0,\n",
    "    upBound = 1,\n",
    "    cat = LpBinary\n",
    ")\n",
    "\n",
    "weights = dict(zip(items['Item Name'], items['Weight (kg)']))\n",
    "relative_values = dict(zip(items['Item Name'], items['Relative Value']))\n",
    "\n",
    "# defining the model objective function\n",
    "prob += lpSum([relative_values[i] * x1_decision_var[i] for i in items['Item Name']])\n",
    "\n",
    "# defining the problem constraints\n",
    "prob += lpSum([weights[i] * x1_decision_var[i] for i in items['Item Name']]) <= knapsack_capacity"
   ]
  },
  {
   "cell_type": "markdown",
   "id": "571a3717-9a9c-4b92-9d72-42da64e1b872",
   "metadata": {},
   "source": [
    "Solve Model"
   ]
  },
  {
   "cell_type": "code",
   "execution_count": 8,
   "id": "cc357200-658d-4e14-a7fd-7562d56e5d37",
   "metadata": {},
   "outputs": [],
   "source": [
    "solver = get_solver(solver = 'PULP_CBC_CMD')\n",
    "results = prob.solve(solver = solver)"
   ]
  },
  {
   "cell_type": "markdown",
   "id": "5c3165c9-40f5-4fd6-83da-9e655f13e903",
   "metadata": {},
   "source": [
    "Model Results"
   ]
  },
  {
   "cell_type": "code",
   "execution_count": 9,
   "id": "1417c90d-1f1f-4d61-a234-d2aa93d6f732",
   "metadata": {},
   "outputs": [
    {
     "name": "stdout",
     "output_type": "stream",
     "text": [
      "Solution Status: Optimal 1\n",
      "Final Objective Value: 23.0\n",
      "[1.0, 1.0, 1.0, 1.0, 0.0, 1.0, 0.0]\n"
     ]
    }
   ],
   "source": [
    "print(\"Solution Status:\", LpStatus[results], prob.sol_status)\n",
    "\n",
    "print(\"Final Objective Value:\", prob.objective.value())\n",
    "\n",
    "pulp_decision_var_results = [x1_decision_var[i].value() for i in x1_decision_var.keys()]\n",
    "print(pulp_decision_var_results)"
   ]
  },
  {
   "cell_type": "markdown",
   "id": "cabaad60-b0b6-4cc3-93b6-830c8ab288fd",
   "metadata": {},
   "source": [
    "Final Results"
   ]
  },
  {
   "cell_type": "code",
   "execution_count": 10,
   "id": "5240a1fb-a7c3-4386-b16e-e2e40eca199a",
   "metadata": {},
   "outputs": [
    {
     "data": {
      "text/html": [
       "<div>\n",
       "<style scoped>\n",
       "    .dataframe tbody tr th:only-of-type {\n",
       "        vertical-align: middle;\n",
       "    }\n",
       "\n",
       "    .dataframe tbody tr th {\n",
       "        vertical-align: top;\n",
       "    }\n",
       "\n",
       "    .dataframe thead th {\n",
       "        text-align: right;\n",
       "    }\n",
       "</style>\n",
       "<table border=\"1\" class=\"dataframe\">\n",
       "  <thead>\n",
       "    <tr style=\"text-align: right;\">\n",
       "      <th></th>\n",
       "      <th>Item Id</th>\n",
       "      <th>Item Name</th>\n",
       "      <th>Weight (kg)</th>\n",
       "      <th>Relative Value</th>\n",
       "      <th>scipy_items_to_select</th>\n",
       "      <th>pulp_items_to_select</th>\n",
       "    </tr>\n",
       "  </thead>\n",
       "  <tbody>\n",
       "    <tr>\n",
       "      <th>0</th>\n",
       "      <td>1</td>\n",
       "      <td>Compass</td>\n",
       "      <td>0.5</td>\n",
       "      <td>6</td>\n",
       "      <td>True</td>\n",
       "      <td>True</td>\n",
       "    </tr>\n",
       "    <tr>\n",
       "      <th>1</th>\n",
       "      <td>2</td>\n",
       "      <td>Knife</td>\n",
       "      <td>1.5</td>\n",
       "      <td>5</td>\n",
       "      <td>True</td>\n",
       "      <td>True</td>\n",
       "    </tr>\n",
       "    <tr>\n",
       "      <th>2</th>\n",
       "      <td>3</td>\n",
       "      <td>Fire Starter Kit</td>\n",
       "      <td>0.4</td>\n",
       "      <td>4</td>\n",
       "      <td>True</td>\n",
       "      <td>True</td>\n",
       "    </tr>\n",
       "    <tr>\n",
       "      <th>3</th>\n",
       "      <td>4</td>\n",
       "      <td>Tent</td>\n",
       "      <td>1.0</td>\n",
       "      <td>4</td>\n",
       "      <td>True</td>\n",
       "      <td>True</td>\n",
       "    </tr>\n",
       "    <tr>\n",
       "      <th>4</th>\n",
       "      <td>5</td>\n",
       "      <td>Propane Cylinder</td>\n",
       "      <td>1.6</td>\n",
       "      <td>3</td>\n",
       "      <td>False</td>\n",
       "      <td>False</td>\n",
       "    </tr>\n",
       "    <tr>\n",
       "      <th>5</th>\n",
       "      <td>6</td>\n",
       "      <td>Food</td>\n",
       "      <td>1.1</td>\n",
       "      <td>4</td>\n",
       "      <td>True</td>\n",
       "      <td>True</td>\n",
       "    </tr>\n",
       "    <tr>\n",
       "      <th>6</th>\n",
       "      <td>7</td>\n",
       "      <td>Portable Telescope</td>\n",
       "      <td>0.8</td>\n",
       "      <td>1</td>\n",
       "      <td>False</td>\n",
       "      <td>False</td>\n",
       "    </tr>\n",
       "  </tbody>\n",
       "</table>\n",
       "</div>"
      ],
      "text/plain": [
       "   Item Id           Item Name  Weight (kg)  Relative Value  \\\n",
       "0        1             Compass          0.5               6   \n",
       "1        2               Knife          1.5               5   \n",
       "2        3    Fire Starter Kit          0.4               4   \n",
       "3        4                Tent          1.0               4   \n",
       "4        5    Propane Cylinder          1.6               3   \n",
       "5        6                Food          1.1               4   \n",
       "6        7  Portable Telescope          0.8               1   \n",
       "\n",
       "   scipy_items_to_select  pulp_items_to_select  \n",
       "0                   True                  True  \n",
       "1                   True                  True  \n",
       "2                   True                  True  \n",
       "3                   True                  True  \n",
       "4                  False                 False  \n",
       "5                   True                  True  \n",
       "6                  False                 False  "
      ]
     },
     "execution_count": 10,
     "metadata": {},
     "output_type": "execute_result"
    }
   ],
   "source": [
    "df['pulp_items_to_select'] = [True if i==1 else False for i in pulp_decision_var_results]\n",
    "df"
   ]
  }
 ],
 "metadata": {
  "kernelspec": {
   "display_name": "Python 3 (ipykernel)",
   "language": "python",
   "name": "python3"
  },
  "language_info": {
   "codemirror_mode": {
    "name": "ipython",
    "version": 3
   },
   "file_extension": ".py",
   "mimetype": "text/x-python",
   "name": "python",
   "nbconvert_exporter": "python",
   "pygments_lexer": "ipython3",
   "version": "3.9.15"
  }
 },
 "nbformat": 4,
 "nbformat_minor": 5
}
